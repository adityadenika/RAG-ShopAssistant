{
 "cells": [
  {
   "cell_type": "markdown",
   "id": "caf58e97",
   "metadata": {},
   "source": [
    "# Generator Filter"
   ]
  },
  {
   "cell_type": "markdown",
   "id": "b1177c66",
   "metadata": {},
   "source": [
    "## Creating Filter with Generator\n",
    "membuat filter retreival dengan menggunakan generator dan custom component di haystack"
   ]
  },
  {
   "cell_type": "code",
   "id": "ff657479",
   "metadata": {},
   "source": [
    "from haystack import Pipeline, component\n",
    "from pymongo import MongoClient\n",
    "from haystack.components.builders import PromptBuilder\n",
    "from haystack_integrations.document_stores.mongodb_atlas import MongoDBAtlasDocumentStore\n",
    "import os\n",
    "from haystack.components.generators import OpenAIGenerator\n",
    "from haystack.utils import Secret\n",
    "from typing import List\n",
    "from getpass import getpass"
   ],
   "outputs": [],
   "execution_count": null
  },
  {
   "cell_type": "markdown",
   "id": "8863f7df",
   "metadata": {},
   "source": [
    "membuat custom component untuk mengambil list material dan category dari database"
   ]
  },
  {
   "cell_type": "code",
   "id": "7c5d7705",
   "metadata": {},
   "source": [
    "os.environ['MONGO_CONNECTION_STRING'] = getpass(\"Enter your MongoDB connection string: \")"
   ],
   "outputs": [],
   "execution_count": null
  },
  {
   "cell_type": "code",
   "id": "f9be6848",
   "metadata": {},
   "source": [
    "os.environ['OPENAI_API_KEY'] = getpass(\"Enter your OpenAI API key: \")"
   ],
   "outputs": [],
   "execution_count": null
  },
  {
   "cell_type": "code",
   "id": "3da4eb1d",
   "metadata": {},
   "source": [
    "class MongoDBAtlas:\n",
    "    def __init__(self, mongo_connection_string:str):\n",
    "        self.client = MongoClient(mongo_connection_string)\n",
    "        self.db = self.client.depato_store\n",
    "        self.material_collection = self.db.materials\n",
    "        self.category_collection = self.db.categories\n",
    "\n",
    "    def get_materials(self):\n",
    "        return [doc['name'] for doc in self.material_collection.find()]\n",
    "\n",
    "    def get_categories(self):\n",
    "        return [doc['name'] for doc in self.category_collection.find()]"
   ],
   "outputs": [],
   "execution_count": null
  },
  {
   "cell_type": "code",
   "id": "5d59e233",
   "metadata": {},
   "source": [
    "@component\n",
    "class GetMaterials:\n",
    "    def __init__(self):\n",
    "        self.db = MongoDBAtlas(os.environ['MONGO_CONNECTION_STRING'])\n",
    "    \n",
    "    @component.output_types(materials=List[str])\n",
    "    def run(self):\n",
    "        materials = self.db.get_materials()\n",
    "        return {\"materials\": materials}"
   ],
   "outputs": [],
   "execution_count": null
  },
  {
   "cell_type": "code",
   "id": "aae4b8aa",
   "metadata": {},
   "source": [
    "@component\n",
    "class GetCategories:\n",
    "    def __init__(self):\n",
    "        self.db = MongoDBAtlas(os.environ['MONGO_CONNECTION_STRING'])\n",
    "    \n",
    "    @component.output_types(categories=List[str])\n",
    "    def run(self):\n",
    "        categories = self.db.get_categories()\n",
    "        return {\"categories\": categories}"
   ],
   "outputs": [],
   "execution_count": null
  },
  {
   "cell_type": "markdown",
   "id": "e78bffa0",
   "metadata": {},
   "source": [
    "membuat pipeline"
   ]
  },
  {
   "cell_type": "code",
   "id": "fe75025d",
   "metadata": {},
   "source": [
    "TEMPLATE = \"\"\"\n",
    "You are a json generator that have a job to generate json based on the input.\n",
    "The return json should be in the format:\n",
    "```json\n",
    "{\n",
    "    \"operator\": \"AND\",\n",
    "    \"conditions\":[\n",
    "        {\"field\": \"meta.category\", \"operator\":\"==\", \"value\": <category>},\n",
    "        {\"field\": \"meta.material\", \"operator\":\"==\", \"value\": <material>},\n",
    "        {\"filed\": \"meta.gender\", \"operator\":\"==\", \"value\" : <male|female|unisex>},\n",
    "        {\"field\": \"meta.price\", \"operator\":<\"<=\"|\">=\"|\"==\">, \"value\": <price>}\n",
    "    ]\n",
    "}\n",
    "```\n",
    "The json key above can be omiitted if the value is not provided in the input, so please make sure to only return the keys that are provided in the input.\n",
    "\n",
    "For the material and category, you can only use the material and category that are provided below:\n",
    "Materials: [ {% for material in materials %} {{ material }} {% if not loop.last %}, {% endif %} {% endfor %} ]\n",
    "\n",
    "Categories: [ {% for category in categories %} {{ category }} {% if not loop.last %}, {% endif %} {% endfor %} ]\n",
    "\n",
    "if the input does not contain any of the keys above, you should return an empty json object like this:\n",
    "```json\n",
    "{}\n",
    "```\n",
    "Sometimes the material and category can be negated, so you should also handle that by using the operator \"!=\" for material and category. \n",
    "\n",
    "Sometimes the material and category is not explicitly mentioned, you should analyze which material and category is the most suitable based on the input, and return the json with the material and category that you think is the most suitable.\n",
    "\n",
    "Nestede conditions are allowed, for nested conditions, you can use \"OR\" and \"AND\" as the operator, and the conditions should be in the \"conditions\" array.\n",
    "\n",
    "The example of the result are expected to be like this:\n",
    "\n",
    "1. Input: \"can you give me a adress with cotton material?\"\n",
    "   output:\n",
    "```json\n",
    "{\n",
    "    \"operator\": \"AND\",\n",
    "    \"conditions\": [\n",
    "        {\"field\": \"meta.material\", \"operator\": \"==\", \"value\": \"Cotton\"},\n",
    "        {\"field\": \"meta.category\", \"operator\": \"==\", \"value\": \"Dresses/Jumpsuits\"}\n",
    "    ]\n",
    "}\n",
    "```\n",
    "\n",
    "2. Input: \"Give me Shirt that is not made of cotton and has a price less than $100\"\n",
    "output:\n",
    "```json\n",
    "{\n",
    "    \"operator\": \"AND\",\n",
    "    \"conditions\": [\n",
    "        {\"field\": \"meta.category\", \"operator\": \"==\", \"value\": \"Tops\"},\n",
    "        {\"field\": \"meta.material\", \"operator\": \"!=\", \"value\": \"Cotton\"},\n",
    "        {\"field\": \"meta.price\", \"operator\": \"<=\", \"value\": 100}\n",
    "    ]\n",
    "}\n",
    "3. Input: \"I want a dress that is not hot and has a price greater than $50\"\n",
    "output:\n",
    "```json\n",
    "{\n",
    "    \"operator\": \"AND\",\n",
    "    \"conditions\": [\n",
    "        {\"field\": \"meta.category\", \"operator\": \"==\", \"value\": \"Dresses/Jumpsuits\"},\n",
    "        {\"field\": \"meta.price\", \"operator\": \">=\", \"value\": 50},\n",
    "        {\n",
    "            \"operator\": \"OR\",\n",
    "            \"conditions\": [\n",
    "                {\"field\": \"meta.material\", \"operator\": \"==\", \"value\": \"Cotton\"},\n",
    "                {\"field\": \"meta.material\", \"operator\": \"==\", \"value\": \"Polyester\"}\n",
    "            ]\n",
    "        }\n",
    "    ]\n",
    "}\n",
    "\n",
    "4. Input i want tops that have price between $20 and $50\n",
    "output:\n",
    "```json\n",
    "{\n",
    "    \"operator\": \"AND\",\n",
    "    \"conditions\": [\n",
    "        {\"field\": \"meta.category\", \"operator\": \"==\", \"value\": \"Tops\"},\n",
    "        {\n",
    "            \"operator\": \"AND\",\n",
    "            \"conditions\":[\n",
    "                {\"field\": \"meta.price\", \"operator\": \">=\", \"value\": 20},\n",
    "                {\"field\": \"meta.price\", \"operator\": \"<=\", \"value\": 50}\n",
    "            ]\n",
    "        }\n",
    "    ]\n",
    "}\n",
    "```\n",
    "5. Input: {{input}}\n",
    "output:\n",
    "\n",
    "```\n",
    "\n",
    "\"\"\""
   ],
   "outputs": [],
   "execution_count": null
  },
  {
   "cell_type": "code",
   "id": "f0aeb2ad",
   "metadata": {},
   "source": [
    "pipeline = Pipeline()\n",
    "pipeline.add_component(\"materials\", GetMaterials())\n",
    "pipeline.add_component(\"categories\", GetCategories())\n",
    "pipeline.add_component(\n",
    "    \"prompt_builder\",\n",
    "    PromptBuilder(\n",
    "        template=TEMPLATE,\n",
    "        required_variables=[\"input\", \"materials\", \"categories\"],\n",
    "    )\n",
    ")\n",
    "pipeline.add_component(\"generator\", OpenAIGenerator(\n",
    "    model=\"gpt-4.1\",\n",
    "    api_key=Secret.from_token(os.environ['OPENAI_API_KEY'])\n",
    "))"
   ],
   "outputs": [],
   "execution_count": null
  },
  {
   "cell_type": "code",
   "id": "4032f81d",
   "metadata": {},
   "source": [
    "pipeline.connect(\"materials.materials\", \"prompt_builder.materials\")\n",
    "pipeline.connect(\"categories.categories\", \"prompt_builder.categories\")\n",
    "pipeline.connect(\"prompt_builder\",\"generator\")"
   ],
   "outputs": [],
   "execution_count": null
  },
  {
   "cell_type": "code",
   "id": "4548d830",
   "metadata": {},
   "source": [
    "user_input = \"I want to find an Outerwear that is not make me hot\""
   ],
   "outputs": [],
   "execution_count": null
  },
  {
   "cell_type": "code",
   "id": "4ae6e81f",
   "metadata": {},
   "source": [
    "response = pipeline.run(\n",
    "    {\n",
    "        \"prompt_builder\":{\n",
    "            \"input\": user_input\n",
    "        }\n",
    "    }\n",
    ")"
   ],
   "outputs": [],
   "execution_count": null
  },
  {
   "cell_type": "code",
   "id": "cdfd9244",
   "metadata": {},
   "source": [
    "response"
   ],
   "outputs": [],
   "execution_count": null
  },
  {
   "cell_type": "markdown",
   "id": "5026d294",
   "metadata": {},
   "source": [
    "mengubah response menjadi JSON"
   ]
  },
  {
   "cell_type": "code",
   "id": "fed99e28",
   "metadata": {},
   "source": [
    "import re\n",
    "import json\n",
    "response_selected = response['generator']['replies'][0]\n",
    "json_match = re.search(r'```json\\n(.*?)\\n```', response_selected, re.DOTALL)\n",
    "if json_match:\n",
    "    json_string = json_match.group(1)\n",
    "    # Parse the JSON string into a Python object\n",
    "    data = json.loads(json_string)\n",
    "    # print(data)\n",
    "else:\n",
    "    print(\"No JSON found.\")"
   ],
   "outputs": [],
   "execution_count": null
  },
  {
   "cell_type": "code",
   "id": "f26fbf84",
   "metadata": {},
   "source": [
    "data"
   ],
   "outputs": [],
   "execution_count": null
  }
 ],
 "metadata": {
  "kernelspec": {
   "display_name": "shop_recommendation",
   "language": "python",
   "name": "python3"
  },
  "language_info": {
   "codemirror_mode": {
    "name": "ipython",
    "version": 3
   },
   "file_extension": ".py",
   "mimetype": "text/x-python",
   "name": "python",
   "nbconvert_exporter": "python",
   "pygments_lexer": "ipython3",
   "version": "3.12.11"
  }
 },
 "nbformat": 4,
 "nbformat_minor": 5
}
