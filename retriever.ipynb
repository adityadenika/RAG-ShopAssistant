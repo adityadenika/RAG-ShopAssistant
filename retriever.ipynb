{
 "cells": [
  {
   "cell_type": "markdown",
   "id": "88aa8910",
   "metadata": {},
   "source": [
    "# Retriever\n"
   ]
  },
  {
   "cell_type": "markdown",
   "id": "61897c10",
   "metadata": {},
   "source": [
    "## Buat Haystack Pipeline untuk retrieve data dari mongodb atlas"
   ]
  },
  {
   "cell_type": "code",
   "id": "0c2a392c",
   "metadata": {},
   "source": [
    "import os\n",
    "from getpass import getpass\n",
    "os.environ[\"MONGO_CONNECTION_STRING\"] = getpass(\"Masukkan MongoDB Connection String Anda: \")"
   ],
   "outputs": [],
   "execution_count": null
  },
  {
   "cell_type": "code",
   "id": "fef95469",
   "metadata": {},
   "source": [
    "from haystack import Pipeline\n",
    "from haystack.components.embedders import SentenceTransformersTextEmbedder\n",
    "from haystack_integrations.document_stores.mongodb_atlas import MongoDBAtlasDocumentStore\n",
    "from haystack_integrations.components.retrievers.mongodb_atlas import MongoDBAtlasEmbeddingRetriever\n",
    "\n",
    "document_store = MongoDBAtlasDocumentStore(\n",
    "    database_name=\"depato_store\",\n",
    "    collection_name=\"products\",\n",
    "    vector_search_index=\"vector_index\",\n",
    "    full_text_search_index=\"search_index\",\n",
    ")"
   ],
   "outputs": [],
   "execution_count": null
  },
  {
   "cell_type": "code",
   "id": "fd221133",
   "metadata": {},
   "source": [
    "pipeline = Pipeline()\n",
    "pipeline.add_component(\"embedder\", SentenceTransformersTextEmbedder())\n",
    "pipeline.add_component(\"retriever\", MongoDBAtlasEmbeddingRetriever(document_store=document_store,top_k=10))"
   ],
   "outputs": [],
   "execution_count": null
  },
  {
   "cell_type": "code",
   "id": "43162129",
   "metadata": {},
   "source": [
    "pipeline.connect(\"embedder\", \"retriever\")"
   ],
   "outputs": [],
   "execution_count": null
  },
  {
   "cell_type": "code",
   "id": "cd71cbd6",
   "metadata": {},
   "source": [
    "pipeline.run(\n",
    "    {\n",
    "        \"embedder\":{\n",
    "            \"text\":\"comfortable dress for going out with friends\"\n",
    "        }\n",
    "    }\n",
    ")"
   ],
   "outputs": [],
   "execution_count": null
  },
  {
   "cell_type": "markdown",
   "id": "017c04e4",
   "metadata": {},
   "source": [
    "## Menggunakan Meta Data untuk memfilter"
   ]
  },
  {
   "cell_type": "markdown",
   "id": "785e07e4",
   "metadata": {},
   "source": [
    "### Single Filter"
   ]
  },
  {
   "cell_type": "code",
   "id": "e59495e9",
   "metadata": {},
   "source": [
    "filters = {\n",
    "    \"field\":\"meta.category\",\"operator\":\"==\",\"value\":\"Dresses/Jumpsuits\"\n",
    "}"
   ],
   "outputs": [],
   "execution_count": null
  },
  {
   "cell_type": "code",
   "id": "9f790e93",
   "metadata": {},
   "source": [
    "pipeline.run(\n",
    "    {\n",
    "        \"embedder\":{\n",
    "            \"text\":\"comfortable dress for going out with friends\"\n",
    "        },\n",
    "        \"retriever\":{\n",
    "            \"filters\": filters\n",
    "        }\n",
    "    }\n",
    ")"
   ],
   "outputs": [],
   "execution_count": null
  },
  {
   "cell_type": "markdown",
   "id": "2ac0d058",
   "metadata": {},
   "source": [
    "### Multiple Filter"
   ]
  },
  {
   "cell_type": "code",
   "id": "c0a1402d",
   "metadata": {},
   "source": [
    "filters = {\n",
    "    \"operator\":\"AND\",\n",
    "    \"conditions\":[\n",
    "        {\"field\":\"meta.category\",\"operator\":\"==\",\"value\":\"Dresses/Jumpsuits\"},\n",
    "        {\"field\":\"meta.price\", \"operator\":\"<=\", \"value\":50},\n",
    "    ]\n",
    "    \n",
    "}"
   ],
   "outputs": [],
   "execution_count": null
  },
  {
   "cell_type": "code",
   "id": "3a43cd13",
   "metadata": {},
   "source": [
    "pipeline.run(\n",
    "    {\n",
    "        \"embedder\":{\n",
    "            \"text\":\"comfortable dress for going out with friends\"\n",
    "        },\n",
    "        \"retriever\":{\n",
    "            \"filters\": filters\n",
    "        }\n",
    "    }\n",
    ")"
   ],
   "outputs": [],
   "execution_count": null
  },
  {
   "cell_type": "markdown",
   "id": "20f388ce",
   "metadata": {},
   "source": [
    "### Advanced Filtering"
   ]
  },
  {
   "cell_type": "code",
   "id": "f826b129",
   "metadata": {},
   "source": [
    "filters = {\n",
    "    \"operator\":\"AND\",\n",
    "    \"conditions\":[\n",
    "        {\"field\":\"meta.category\",\"operator\":\"==\",\"value\":\"Dresses/Jumpsuits\"},\n",
    "        {\"field\":\"meta.price\", \"operator\":\"<=\", \"value\":50},\n",
    "        {\n",
    "            \"operator\":\"OR\",\n",
    "            \"conditions\":[\n",
    "                {\"field\":\"meta.material\",\"operator\":\"==\",\"value\":\"Cotton\"},\n",
    "                {\"field\":\"meta.material\",\"operator\":\"==\",\"value\":\"Polyester\"}\n",
    "            ]\n",
    "        }\n",
    "    ]\n",
    "    \n",
    "}"
   ],
   "outputs": [],
   "execution_count": null
  },
  {
   "cell_type": "code",
   "id": "a17a31bd",
   "metadata": {},
   "source": [
    "pipeline.run(\n",
    "    {\n",
    "        \"embedder\":{\n",
    "            \"text\":\"comfortable dress for going out with friends\"\n",
    "        },\n",
    "        \"retriever\":{\n",
    "            \"filters\": filters\n",
    "        }\n",
    "    }\n",
    ")"
   ],
   "outputs": [],
   "execution_count": null
  }
 ],
 "metadata": {
  "kernelspec": {
   "display_name": "shop_recommendation",
   "language": "python",
   "name": "python3"
  },
  "language_info": {
   "codemirror_mode": {
    "name": "ipython",
    "version": 3
   },
   "file_extension": ".py",
   "mimetype": "text/x-python",
   "name": "python",
   "nbconvert_exporter": "python",
   "pygments_lexer": "ipython3",
   "version": "3.12.11"
  }
 },
 "nbformat": 4,
 "nbformat_minor": 5
}
