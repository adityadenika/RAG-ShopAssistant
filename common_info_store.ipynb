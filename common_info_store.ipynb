{
 "cells": [
  {
   "cell_type": "markdown",
   "id": "dfd9840a",
   "metadata": {},
   "source": [
    "# Common Information – Data Seeder (MongoDB Atlas)\n",
    "Notebook ini menyiapkan **dataset FAQ** (pengiriman, pembelian, refund, dsb), membuat embedding, lalu menyimpannya ke **MongoDB Atlas** pada koleksi **`common_information`** sehingga bisa diretrieval oleh tool RAG."
   ]
  },
  {
   "cell_type": "code",
   "id": "e3e4a608",
   "metadata": {
    "ExecuteTime": {
     "end_time": "2025-08-17T12:35:19.301736Z",
     "start_time": "2025-08-17T12:35:19.287545Z"
    }
   },
   "source": [
    "# --- Setup & Imports\n",
    "import os\n",
    "import dotenv\n",
    "from typing import List, Dict\n",
    "\n",
    "from haystack.dataclasses import Document\n",
    "from haystack_integrations.document_stores.mongodb_atlas import MongoDBAtlasDocumentStore\n",
    "from haystack.components.embedders import SentenceTransformersDocumentEmbedder\n",
    "\n",
    "dotenv.load_dotenv()\n",
    "MONGO_CONNECTION_STRING = os.environ.get(\"MONGO_CONNECTION_STRING\")\n",
    "assert MONGO_CONNECTION_STRING, \"Harap set MONGO_CONNECTION_STRING di .env\"\n",
    "\n",
    "DB_NAME = \"depato_store\"\n",
    "COLLECTION = \"common_information\"\n",
    "VECTOR_INDEX = \"vector_index_common_info\"\n",
    "FTS_INDEX = \"search_index_common_info\""
   ],
   "outputs": [],
   "execution_count": 5
  },
  {
   "cell_type": "code",
   "id": "3eff9097",
   "metadata": {
    "ExecuteTime": {
     "end_time": "2025-08-17T12:35:19.313394Z",
     "start_time": "2025-08-17T12:35:19.310069Z"
    }
   },
   "source": [
    "seed_data: List[Dict] = [\n",
    "    {\n",
    "        \"question\": \"Bagaimana cara pembelian di toko ini?\",\n",
    "        \"answer\": \"Anda dapat membeli melalui website: pilih produk, tambah ke keranjang, isi alamat, lalu pilih metode pembayaran (transfer bank, e-wallet, kartu).\",\n",
    "        \"category\": \"pembelian\",\n",
    "        \"tags\": [\"cara pembelian\", \"order\", \"pembayaran\"]\n",
    "    },\n",
    "    {\n",
    "        \"question\": \"Apa saja metode pembayaran yang tersedia?\",\n",
    "        \"answer\": \"Kami menerima transfer bank (BCA/BNI/BRI/Mandiri), e-wallet (OVO/Gopay/DANA), dan kartu kredit/debit berlogo Visa/Mastercard.\",\n",
    "        \"category\": \"pembelian\",\n",
    "        \"tags\": [\"pembayaran\", \"metode pembayaran\"]\n",
    "    },\n",
    "    {\n",
    "        \"question\": \"Berapa lama pengiriman barang?\",\n",
    "        \"answer\": \"Pengiriman reguler umumnya 2–5 hari kerja, tergantung kurir dan lokasi. Tersedia opsi same day/next day di kota tertentu.\",\n",
    "        \"category\": \"pengiriman\",\n",
    "        \"tags\": [\"estimasi kirim\", \"durasi\", \"kurir\"]\n",
    "    },\n",
    "    {\n",
    "        \"question\": \"Bagaimana cara melacak pesanan saya?\",\n",
    "        \"answer\": \"Nomor resi dikirim via email/WhatsApp setelah pesanan diproses. Lacak melalui halaman ‘Order Tracking’ atau situs kurir.\",\n",
    "        \"category\": \"pengiriman\",\n",
    "        \"tags\": [\"resi\", \"tracking\", \"order tracking\"]\n",
    "    },\n",
    "    {\n",
    "        \"question\": \"Bagaimana kebijakan refund dan pengembalian dana?\",\n",
    "        \"answer\": \"Refund dapat diajukan maksimal 7 hari sejak barang diterima untuk kerusakan/pesanan tidak sesuai. Proses 3–5 hari kerja setelah disetujui.\",\n",
    "        \"category\": \"refund\",\n",
    "        \"tags\": [\"refund\", \"pengembalian dana\", \"retur\"]\n",
    "    },\n",
    "    {\n",
    "        \"question\": \"Bagaimana cara retur/penukaran barang?\",\n",
    "        \"answer\": \"Ajukan melalui halaman ‘Bantuan’ → ‘Retur/Penukaran’, sertakan foto/video bukti. Tim kami akan memvalidasi dan memberi label pengembalian.\",\n",
    "        \"category\": \"refund\",\n",
    "        \"tags\": [\"retur\", \"tukar barang\", \"klaim\"]\n",
    "    },\n",
    "    {\n",
    "        \"question\": \"Apakah ada gratis ongkir?\",\n",
    "        \"answer\": \"Gratis ongkir tersedia untuk pesanan di atas Rp300.000 atau saat promo tertentu. Syarat dapat berubah mengikuti kampanye berjalan.\",\n",
    "        \"category\": \"pengiriman\",\n",
    "        \"tags\": [\"ongkir\", \"gratis ongkir\", \"promo\"]\n",
    "    },\n",
    "    {\n",
    "        \"question\": \"Bagaimana jika paket hilang atau rusak saat pengiriman?\",\n",
    "        \"answer\": \"Segera hubungi CS dengan bukti foto/video. Kami bantu klaim ke kurir. Penggantian/kompensasi mengikuti hasil investigasi kurir.\",\n",
    "        \"category\": \"pengiriman\",\n",
    "        \"tags\": [\"klaim\", \"asuransi\", \"kerusakan\"]\n",
    "    }\n",
    "]"
   ],
   "outputs": [],
   "execution_count": 6
  },
  {
   "cell_type": "code",
   "id": "1521ee87",
   "metadata": {
    "ExecuteTime": {
     "end_time": "2025-08-17T12:35:19.323333Z",
     "start_time": "2025-08-17T12:35:19.319695Z"
    }
   },
   "source": [
    "document_store = MongoDBAtlasDocumentStore(\n",
    "    database_name=DB_NAME,\n",
    "    collection_name=COLLECTION,\n",
    "    vector_search_index=VECTOR_INDEX,\n",
    "    full_text_search_index=FTS_INDEX,\n",
    ")\n",
    "\n",
    "doc_embedder = SentenceTransformersDocumentEmbedder(model=\"sentence-transformers/all-MiniLM-L6-v2\")"
   ],
   "outputs": [],
   "execution_count": 7
  },
  {
   "cell_type": "code",
   "id": "5f12c43d",
   "metadata": {
    "ExecuteTime": {
     "end_time": "2025-08-17T12:35:19.387651Z",
     "start_time": "2025-08-17T12:35:19.330725Z"
    }
   },
   "source": [
    "docs: List[Document] = []\n",
    "for item in seed_data:\n",
    "    content = f\"\"\"Q: {item['question']}\n",
    "A: {item['answer']}\"\"\"\n",
    "    meta = {\"category\": item[\"category\"], \"tags\": item[\"tags\"], \"topic\": \"common_information\"}\n",
    "    docs.append(Document(content=content, meta=meta))\n",
    "\n",
    "embedded = doc_embedder.run(documents=docs)\n",
    "embedded_docs = embedded.get(\"documents\", docs)\n",
    "\n",
    "document_store.write_documents(embedded_docs)\n",
    "print(f\"Sukses menulis {len(embedded_docs)} dokumen ke koleksi '{COLLECTION}'.\")"
   ],
   "outputs": [
    {
     "ename": "RuntimeError",
     "evalue": "The embedding model has not been loaded. Please call warm_up() before running.",
     "output_type": "error",
     "traceback": [
      "\u001B[31m---------------------------------------------------------------------------\u001B[39m",
      "\u001B[31mRuntimeError\u001B[39m                              Traceback (most recent call last)",
      "\u001B[36mCell\u001B[39m\u001B[36m \u001B[39m\u001B[32mIn[8]\u001B[39m\u001B[32m, line 10\u001B[39m\n\u001B[32m      7\u001B[39m     docs.append(Document(content=content, meta=meta))\n\u001B[32m      9\u001B[39m \u001B[38;5;66;03m# Embed dokumen (embedding disimpan di field .embedding dalam Document)\u001B[39;00m\n\u001B[32m---> \u001B[39m\u001B[32m10\u001B[39m embedded = \u001B[43mdoc_embedder\u001B[49m\u001B[43m.\u001B[49m\u001B[43mrun\u001B[49m\u001B[43m(\u001B[49m\u001B[43mdocuments\u001B[49m\u001B[43m=\u001B[49m\u001B[43mdocs\u001B[49m\u001B[43m)\u001B[49m\n\u001B[32m     11\u001B[39m embedded_docs = embedded.get(\u001B[33m\"\u001B[39m\u001B[33mdocuments\u001B[39m\u001B[33m\"\u001B[39m, docs)\n\u001B[32m     13\u001B[39m \u001B[38;5;66;03m# Tulis ke MongoDB Atlas (koleksi common_information)\u001B[39;00m\n\u001B[32m     14\u001B[39m \u001B[38;5;66;03m# Catatan: Pastikan search indexes (VECTOR_INDEX & FTS_INDEX) sudah dibuat di Atlas.\u001B[39;00m\n",
      "\u001B[36mFile \u001B[39m\u001B[32mD:\\aditya\\Study\\Python\\shop_recommendation\\.venv\\Lib\\site-packages\\haystack\\components\\embedders\\sentence_transformers_document_embedder.py:239\u001B[39m, in \u001B[36mSentenceTransformersDocumentEmbedder.run\u001B[39m\u001B[34m(self, documents)\u001B[39m\n\u001B[32m    234\u001B[39m     \u001B[38;5;28;01mraise\u001B[39;00m \u001B[38;5;167;01mTypeError\u001B[39;00m(\n\u001B[32m    235\u001B[39m         \u001B[33m\"\u001B[39m\u001B[33mSentenceTransformersDocumentEmbedder expects a list of Documents as input.\u001B[39m\u001B[33m\"\u001B[39m\n\u001B[32m    236\u001B[39m         \u001B[33m\"\u001B[39m\u001B[33mIn case you want to embed a list of strings, please use the SentenceTransformersTextEmbedder.\u001B[39m\u001B[33m\"\u001B[39m\n\u001B[32m    237\u001B[39m     )\n\u001B[32m    238\u001B[39m \u001B[38;5;28;01mif\u001B[39;00m \u001B[38;5;28mself\u001B[39m.embedding_backend \u001B[38;5;129;01mis\u001B[39;00m \u001B[38;5;28;01mNone\u001B[39;00m:\n\u001B[32m--> \u001B[39m\u001B[32m239\u001B[39m     \u001B[38;5;28;01mraise\u001B[39;00m \u001B[38;5;167;01mRuntimeError\u001B[39;00m(\u001B[33m\"\u001B[39m\u001B[33mThe embedding model has not been loaded. Please call warm_up() before running.\u001B[39m\u001B[33m\"\u001B[39m)\n\u001B[32m    241\u001B[39m texts_to_embed = []\n\u001B[32m    242\u001B[39m \u001B[38;5;28;01mfor\u001B[39;00m doc \u001B[38;5;129;01min\u001B[39;00m documents:\n",
      "\u001B[31mRuntimeError\u001B[39m: The embedding model has not been loaded. Please call warm_up() before running."
     ]
    }
   ],
   "execution_count": 8
  }
 ],
 "metadata": {
  "kernelspec": {
   "name": "python3",
   "language": "python",
   "display_name": "Python 3 (ipykernel)"
  }
 },
 "nbformat": 4,
 "nbformat_minor": 5
}
