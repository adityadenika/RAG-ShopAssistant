{
 "cells": [
  {
   "cell_type": "markdown",
   "id": "61b4f71d",
   "metadata": {},
   "source": [
    "# Generator"
   ]
  },
  {
   "cell_type": "markdown",
   "id": "2ecb0f89",
   "metadata": {},
   "source": [
    "## Generator untuk Retrieval Process"
   ]
  },
  {
   "cell_type": "code",
   "id": "45460cbf",
   "metadata": {},
   "source": [
    "from haystack import Pipeline, component\n",
    "from haystack.components.builders import PromptBuilder\n",
    "from haystack_integrations.components.retrievers.mongodb_atlas import MongoDBAtlasEmbeddingRetriever\n",
    "from haystack.components.embedders import SentenceTransformersTextEmbedder\n",
    "\n",
    "from haystack_integrations.document_stores.mongodb_atlas import MongoDBAtlasDocumentStore\n",
    "import os\n",
    "from haystack.components.generators import OpenAIGenerator\n",
    "from haystack.utils import Secret\n",
    "from typing import List\n",
    "from getpass import getpass"
   ],
   "outputs": [],
   "execution_count": null
  },
  {
   "cell_type": "markdown",
   "id": "498f38d4",
   "metadata": {},
   "source": [
    "Define Connection Environment"
   ]
  },
  {
   "cell_type": "code",
   "id": "4410a796",
   "metadata": {},
   "source": [
    "os.environ['MONGO_CONNECTION_STRING'] = getpass(\"Enter your MongoDB connection string: \")"
   ],
   "outputs": [],
   "execution_count": null
  },
  {
   "cell_type": "code",
   "id": "a56e8c64",
   "metadata": {},
   "source": [
    "os.environ['OPENAI_API_KEY'] = getpass(\"Enter your OpenAI API key: \")"
   ],
   "outputs": [],
   "execution_count": null
  },
  {
   "cell_type": "markdown",
   "id": "c9b4eebc",
   "metadata": {},
   "source": [
    "membuat pipeline"
   ]
  },
  {
   "cell_type": "code",
   "id": "161acafa",
   "metadata": {},
   "source": [
    "document_store = MongoDBAtlasDocumentStore(\n",
    "    database_name=\"depato_store\",\n",
    "    collection_name=\"products\",\n",
    "    vector_search_index=\"vector_index\",\n",
    "    full_text_search_index=\"search_index\",\n",
    ")"
   ],
   "outputs": [],
   "execution_count": null
  },
  {
   "cell_type": "code",
   "id": "4f6f2dd4",
   "metadata": {},
   "source": [
    "TEMPLATE = \"\"\"\"\n",
    "You are a shop assiistant that helps users find the best products in a shopping mall.\n",
    "You will be give a query and list of products. Your task is to generate a list of products that best match the query.\n",
    "\n",
    "The output should be a list of products in the following format:\n",
    "\n",
    "<summary_of_query>\n",
    "<index>. <product_name> \n",
    "Price: <product_price>\n",
    "Material: <product_material>\n",
    "Category: <product_category>\n",
    "Brand: <product_brand>\n",
    "Recommendation: <product_recommendation>\n",
    "\n",
    "From the format above, you should pay attention to the following:\n",
    "1. <summary_of_query> should be a short summary of the query.\n",
    "2. <index> should be a number starting from 1.\n",
    "3. <product_name> should be the name of the product, this product name can be found from the product_name field.\n",
    "4. <product_price> should be the price of the product, this product price can be found from the product_price field.\n",
    "5. <product_material> should be the material of the product, this product material can be found from the product_material field.\n",
    "6. <product_category> should be the category of the product, this product category can be found from the product_category field.\n",
    "7. <product_brand> should be the brand of the product, this product brand can be found from the product_brand field.\n",
    "8. <product_recommendation> should be the recommendation of the product, you should give a recommendation why this product is recommended, please pay attentation to the product_content field. \n",
    "\n",
    "\n",
    "You should only return the list of products that best match the query, do not return any other information.\n",
    "\n",
    "The query is: {{query}}\n",
    "the products are:\n",
    "{% for product in documents %}\n",
    "===========================================================\n",
    "{{loop.index + 1}}. product_name: {{ product.meta.title }}\n",
    "product_price: {{ product.meta.price }}\n",
    "product_material: {{ product.meta.material }}\n",
    "product_category: {{ product.meta.category }}\n",
    "product_brand: {{ product.meta.brand }}\n",
    "product_content: {{ product.content}}\n",
    "{% endfor %}\n",
    "\n",
    "===========================================================\n",
    "\n",
    "Answer:\n",
    "\n",
    "\"\"\""
   ],
   "outputs": [],
   "execution_count": null
  },
  {
   "cell_type": "code",
   "id": "15daafd8",
   "metadata": {},
   "source": [
    "pipeline = Pipeline()\n",
    "pipeline.add_component(\"embedder\", SentenceTransformersTextEmbedder())\n",
    "pipeline.add_component(\"retriever\", MongoDBAtlasEmbeddingRetriever(document_store=document_store, top_k=5))\n",
    "pipeline.add_component(\"prompt_builder\", PromptBuilder(template=TEMPLATE))\n",
    "pipeline.add_component(\"generator\", OpenAIGenerator(model=\"gpt-4.1\", api_key=Secret.from_token(os.environ['OPENAI_API_KEY'])))"
   ],
   "outputs": [],
   "execution_count": null
  },
  {
   "cell_type": "code",
   "id": "27595d98",
   "metadata": {},
   "source": [
    "pipeline.connect(\"embedder\", \"retriever\")\n",
    "pipeline.connect(\"retriever\", \"prompt_builder\")\n",
    "pipeline.connect(\"prompt_builder\", \"generator\")"
   ],
   "outputs": [],
   "execution_count": null
  },
  {
   "cell_type": "code",
   "id": "5420993c",
   "metadata": {},
   "source": [
    "query=\"I want to find an Outerwear that is not make me hot\"\n",
    "response = pipeline.run(\n",
    "    {\n",
    "        \"embedder\":{\n",
    "            \"text\": query\n",
    "        },\n",
    "        \"prompt_builder\":{\n",
    "            \"query\": query\n",
    "        }\n",
    "    }\n",
    ")"
   ],
   "outputs": [],
   "execution_count": null
  },
  {
   "cell_type": "code",
   "id": "0e127e70",
   "metadata": {},
   "source": [
    "response['generator']['replies'][0]"
   ],
   "outputs": [],
   "execution_count": null
  }
 ],
 "metadata": {
  "kernelspec": {
   "display_name": "shop_recommendation",
   "language": "python",
   "name": "python3"
  },
  "language_info": {
   "name": "python",
   "version": "3.12.11"
  }
 },
 "nbformat": 4,
 "nbformat_minor": 5
}
