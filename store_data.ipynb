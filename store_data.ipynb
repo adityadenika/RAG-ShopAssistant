{
 "cells": [
  {
   "cell_type": "markdown",
   "id": "6fc2ffe5",
   "metadata": {},
   "source": [
    "# Storing Data pada MongoDB Atlas"
   ]
  },
  {
   "cell_type": "markdown",
   "id": "a6d9fb0a",
   "metadata": {},
   "source": [
    "## Load Dataset"
   ]
  },
  {
   "cell_type": "code",
   "id": "31b98391",
   "metadata": {},
   "source": [
    "import pandas as pd\n",
    "df = pd.read_pickle('../data/datasets.pkl')"
   ],
   "outputs": [],
   "execution_count": null
  },
  {
   "cell_type": "code",
   "id": "20562713",
   "metadata": {},
   "source": [
    "df.head()"
   ],
   "outputs": [],
   "execution_count": null
  },
  {
   "cell_type": "markdown",
   "id": "5c61e5b8",
   "metadata": {},
   "source": [
    "## Building Dataset"
   ]
  },
  {
   "cell_type": "code",
   "id": "cb21bc7d",
   "metadata": {},
   "source": [
    "from haystack import Document\n",
    "documents = []\n",
    "for index, row in df.iterrows():\n",
    "    descriptions = row[\"description\"].strip(\"[]\").strip(\"''\")\n",
    "\n",
    "    doc = Document(\n",
    "        content = f\"{row['title']}\\n {descriptions}\",\n",
    "        meta = {\n",
    "            'asin': row['asin'],\n",
    "            'title': row['title'],\n",
    "            'brand': row['brand'],\n",
    "            'price': row['price'],\n",
    "            'gender': row['gender'],\n",
    "            'material': row['material'],\n",
    "            'category': row['category'],\n",
    "        }\n",
    "    )\n",
    "    documents.append(doc)"
   ],
   "outputs": [],
   "execution_count": null
  },
  {
   "cell_type": "code",
   "id": "19c49be0",
   "metadata": {},
   "source": [
    "documents[:5]"
   ],
   "outputs": [],
   "execution_count": null
  },
  {
   "cell_type": "markdown",
   "id": "9aef7836",
   "metadata": {},
   "source": [
    "## Membuat Storing Pipeline"
   ]
  },
  {
   "cell_type": "code",
   "id": "1b1c5e97",
   "metadata": {},
   "source": [
    "import os\n",
    "from getpass import getpass\n",
    "os.environ[\"MONGO_CONNECTION_STRING\"] = getpass(\"Masukkan MongoDB Connection String Anda: \")"
   ],
   "outputs": [],
   "execution_count": null
  },
  {
   "cell_type": "code",
   "id": "5057a474",
   "metadata": {},
   "source": [
    "from haystack import Pipeline\n",
    "from haystack.components.embedders import SentenceTransformersDocumentEmbedder\n",
    "from haystack.components.writers import DocumentWriter\n",
    "from haystack.document_stores.types import DuplicatePolicy\n",
    "pipeline_storing = Pipeline()"
   ],
   "outputs": [],
   "execution_count": null
  },
  {
   "cell_type": "code",
   "id": "bdc97694",
   "metadata": {},
   "source": [
    "from haystack_integrations.document_stores.mongodb_atlas import MongoDBAtlasDocumentStore\n",
    "document_store = MongoDBAtlasDocumentStore(\n",
    "    database_name=\"depato_store\",\n",
    "    collection_name=\"products\",\n",
    "    vector_search_index=\"vector_index\",\n",
    "    full_text_search_index=\"search_index\",\n",
    ")"
   ],
   "outputs": [],
   "execution_count": null
  },
  {
   "cell_type": "code",
   "id": "8fa7d367",
   "metadata": {},
   "source": [
    "pipeline = Pipeline()\n",
    "pipeline.add_component(\"embedder\",SentenceTransformersDocumentEmbedder())\n",
    "pipeline.add_component(\"writer\",DocumentWriter(document_store=document_store,policy=DuplicatePolicy.OVERWRITE))\n",
    "\n",
    "pipeline.connect(\"embedder\",\"writer\")"
   ],
   "outputs": [],
   "execution_count": null
  },
  {
   "cell_type": "code",
   "id": "bc027a0f",
   "metadata": {},
   "source": [
    "pipeline.run({\n",
    "    \"embedder\":{\n",
    "        \"documents\":documents\n",
    "    }\n",
    "})"
   ],
   "outputs": [],
   "execution_count": null
  },
  {
   "cell_type": "markdown",
   "id": "c9cf18f1",
   "metadata": {},
   "source": [
    "## Menyimpan Category dan Material di koleksi "
   ]
  },
  {
   "cell_type": "code",
   "id": "1ee2e1e1",
   "metadata": {},
   "source": [
    "from pymongo import MongoClient\n",
    "import os\n",
    "client = MongoClient(os.environ['MONGO_CONNECTION_STRING'])\n",
    "db = client.depato_store\n",
    "material_collection = db.materials\n",
    "category_collection = db.categories"
   ],
   "outputs": [],
   "execution_count": null
  },
  {
   "cell_type": "code",
   "id": "70fba94f",
   "metadata": {},
   "source": [
    "materials = df['material'].unique().tolist()\n",
    "categories = df['category'].unique().tolist()"
   ],
   "outputs": [],
   "execution_count": null
  },
  {
   "cell_type": "code",
   "id": "32435dcc",
   "metadata": {},
   "source": [
    "documents_material= [ {\"name\":m} for m in materials]\n",
    "documents_category = [ {\"name\":c} for c in categories]"
   ],
   "outputs": [],
   "execution_count": null
  },
  {
   "cell_type": "code",
   "id": "4bd7ebc1",
   "metadata": {},
   "source": [
    "material_collection.insert_many(documents_material)\n",
    "category_collection.insert_many(documents_category)"
   ],
   "outputs": [],
   "execution_count": null
  }
 ],
 "metadata": {
  "kernelspec": {
   "display_name": "shop_recommendation",
   "language": "python",
   "name": "python3"
  },
  "language_info": {
   "codemirror_mode": {
    "name": "ipython",
    "version": 3
   },
   "file_extension": ".py",
   "mimetype": "text/x-python",
   "name": "python",
   "nbconvert_exporter": "python",
   "pygments_lexer": "ipython3",
   "version": "3.12.11"
  }
 },
 "nbformat": 4,
 "nbformat_minor": 5
}
